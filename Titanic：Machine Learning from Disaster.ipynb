{
 "cells": [
  {
   "cell_type": "markdown",
   "metadata": {},
   "source": [
    "# 一、加载数据"
   ]
  },
  {
   "cell_type": "markdown",
   "metadata": {},
   "source": [
    "数据处理部分：缺失值填充，非数值型标签数值化"
   ]
  },
  {
   "cell_type": "code",
   "execution_count": 83,
   "metadata": {},
   "outputs": [
    {
     "name": "stdout",
     "output_type": "stream",
     "text": [
      "             Survived  Pclass  \\\n",
      "PassengerId                     \n",
      "1                   0       3   \n",
      "2                   1       1   \n",
      "3                   1       3   \n",
      "4                   1       1   \n",
      "5                   0       3   \n",
      "...               ...     ...   \n",
      "887                 0       2   \n",
      "888                 1       1   \n",
      "889                 0       3   \n",
      "890                 1       1   \n",
      "891                 0       3   \n",
      "\n",
      "                                                          Name     Sex   Age  \\\n",
      "PassengerId                                                                    \n",
      "1                                      Braund, Mr. Owen Harris    male  22.0   \n",
      "2            Cumings, Mrs. John Bradley (Florence Briggs Th...  female  38.0   \n",
      "3                                       Heikkinen, Miss. Laina  female  26.0   \n",
      "4                 Futrelle, Mrs. Jacques Heath (Lily May Peel)  female  35.0   \n",
      "5                                     Allen, Mr. William Henry    male  35.0   \n",
      "...                                                        ...     ...   ...   \n",
      "887                                      Montvila, Rev. Juozas    male  27.0   \n",
      "888                               Graham, Miss. Margaret Edith  female  19.0   \n",
      "889                   Johnston, Miss. Catherine Helen \"Carrie\"  female   NaN   \n",
      "890                                      Behr, Mr. Karl Howell    male  26.0   \n",
      "891                                        Dooley, Mr. Patrick    male  32.0   \n",
      "\n",
      "             SibSp  Parch            Ticket     Fare Cabin Embarked  \n",
      "PassengerId                                                          \n",
      "1                1      0         A/5 21171   7.2500   NaN        S  \n",
      "2                1      0          PC 17599  71.2833   C85        C  \n",
      "3                0      0  STON/O2. 3101282   7.9250   NaN        S  \n",
      "4                1      0            113803  53.1000  C123        S  \n",
      "5                0      0            373450   8.0500   NaN        S  \n",
      "...            ...    ...               ...      ...   ...      ...  \n",
      "887              0      0            211536  13.0000   NaN        S  \n",
      "888              0      0            112053  30.0000   B42        S  \n",
      "889              1      2        W./C. 6607  23.4500   NaN        S  \n",
      "890              0      0            111369  30.0000  C148        C  \n",
      "891              0      0            370376   7.7500   NaN        Q  \n",
      "\n",
      "[891 rows x 11 columns]\n",
      "         Survived      Pclass         Age       SibSp       Parch        Fare\n",
      "count  891.000000  891.000000  714.000000  891.000000  891.000000  891.000000\n",
      "mean     0.383838    2.308642   29.699118    0.523008    0.381594   32.204208\n",
      "std      0.486592    0.836071   14.526497    1.102743    0.806057   49.693429\n",
      "min      0.000000    1.000000    0.420000    0.000000    0.000000    0.000000\n",
      "25%      0.000000    2.000000   20.125000    0.000000    0.000000    7.910400\n",
      "50%      0.000000    3.000000   28.000000    0.000000    0.000000   14.454200\n",
      "75%      1.000000    3.000000   38.000000    1.000000    0.000000   31.000000\n",
      "max      1.000000    3.000000   80.000000    8.000000    6.000000  512.329200\n"
     ]
    }
   ],
   "source": [
    "import pandas as pd\n",
    "\n",
    "titanic = pd.read_csv('train.csv',index_col='PassengerId')\n",
    "print(titanic)\n",
    "#describe()只能统计数据中的数值量\n",
    "print(titanic.describe())"
   ]
  },
  {
   "cell_type": "markdown",
   "metadata": {},
   "source": [
    "# 二、对数据进行预处理"
   ]
  },
  {
   "cell_type": "code",
   "execution_count": 84,
   "metadata": {},
   "outputs": [
    {
     "name": "stdout",
     "output_type": "stream",
     "text": [
      "         Survived      Pclass         Age       SibSp       Parch        Fare\n",
      "count  891.000000  891.000000  891.000000  891.000000  891.000000  891.000000\n",
      "mean     0.383838    2.308642   29.361582    0.523008    0.381594   32.204208\n",
      "std      0.486592    0.836071   13.019697    1.102743    0.806057   49.693429\n",
      "min      0.000000    1.000000    0.420000    0.000000    0.000000    0.000000\n",
      "25%      0.000000    2.000000   22.000000    0.000000    0.000000    7.910400\n",
      "50%      0.000000    3.000000   28.000000    0.000000    0.000000   14.454200\n",
      "75%      1.000000    3.000000   35.000000    1.000000    0.000000   31.000000\n",
      "max      1.000000    3.000000   80.000000    8.000000    6.000000  512.329200\n"
     ]
    }
   ],
   "source": [
    "#由describe()可知，Age的count只有714个是有缺失值的，因此用Age的中位数对此进行填充\n",
    "titanic['Age'] = titanic['Age'].fillna(titanic['Age'].median())\n",
    "print(titanic.describe())"
   ]
  },
  {
   "cell_type": "code",
   "execution_count": 85,
   "metadata": {},
   "outputs": [
    {
     "name": "stdout",
     "output_type": "stream",
     "text": [
      "['male' 'female']\n"
     ]
    }
   ],
   "source": [
    "#对数据中我们认为重要的非数值型的量，进行数值表示，方便机器进行学习。例如：Sex\n",
    "#先查看Sex中有几类数据\n",
    "print(titanic['Sex'].unique())\n",
    "# loc[行标签，列标签] 按照行列标签进行切片，\n",
    "titanic.loc[titanic['Sex']== 'male' ,'Sex'] = 0\n",
    "titanic.loc[titanic['Sex']== 'female' ,'Sex'] = 1\n"
   ]
  },
  {
   "cell_type": "code",
   "execution_count": 86,
   "metadata": {},
   "outputs": [
    {
     "name": "stdout",
     "output_type": "stream",
     "text": [
      "['S' 'C' 'Q' nan]\n"
     ]
    }
   ],
   "source": [
    "#将上船地点进行数值化表示\n",
    "print(titanic['Embarked'].unique())\n",
    "\n",
    "titanic['Embarked'] = titanic['Embarked'].fillna('S')\n",
    "#数值化表示\n",
    "titanic.loc[titanic['Embarked']=='S','Embarked'] = 0\n",
    "titanic.loc[titanic['Embarked']=='C','Embarked'] = 1\n",
    "titanic.loc[titanic['Embarked']=='Q','Embarked'] = 3"
   ]
  },
  {
   "cell_type": "code",
   "execution_count": 87,
   "metadata": {},
   "outputs": [
    {
     "name": "stdout",
     "output_type": "stream",
     "text": [
      "处理后的数据：\n",
      "              Survived  Pclass  \\\n",
      "PassengerId                     \n",
      "1                   0       3   \n",
      "2                   1       1   \n",
      "3                   1       3   \n",
      "4                   1       1   \n",
      "5                   0       3   \n",
      "\n",
      "                                                          Name  Sex   Age  \\\n",
      "PassengerId                                                                 \n",
      "1                                      Braund, Mr. Owen Harris    0  22.0   \n",
      "2            Cumings, Mrs. John Bradley (Florence Briggs Th...    1  38.0   \n",
      "3                                       Heikkinen, Miss. Laina    1  26.0   \n",
      "4                 Futrelle, Mrs. Jacques Heath (Lily May Peel)    1  35.0   \n",
      "5                                     Allen, Mr. William Henry    0  35.0   \n",
      "\n",
      "             SibSp  Parch            Ticket     Fare Cabin  Embarked  \n",
      "PassengerId                                                           \n",
      "1                1      0         A/5 21171   7.2500   NaN         0  \n",
      "2                1      0          PC 17599  71.2833   C85         1  \n",
      "3                0      0  STON/O2. 3101282   7.9250   NaN         0  \n",
      "4                1      0            113803  53.1000  C123         0  \n",
      "5                0      0            373450   8.0500   NaN         0  \n"
     ]
    }
   ],
   "source": [
    "print('处理后的数据：\\n',titanic.head())"
   ]
  },
  {
   "cell_type": "markdown",
   "metadata": {},
   "source": [
    "# 三、对数据进行分类"
   ]
  },
  {
   "cell_type": "markdown",
   "metadata": {},
   "source": [
    "1、利用简单的XGboost机器学习算法，进行分类。"
   ]
  },
  {
   "cell_type": "code",
   "execution_count": 134,
   "metadata": {},
   "outputs": [
    {
     "name": "stdout",
     "output_type": "stream",
     "text": [
      "X_train_shape: (596, 7)\n",
      "X_test_shape: (295, 7)\n",
      "Y_train_shape: (596,)\n",
      "Y_test_shape: (295,)\n",
      "Y_pred:\n",
      " [0 0 0 0 1 1 0 0 0 1 1 0 1 1 0 0 0 0 0 0 0 0 0 0 0 0 1 0 0 1 1 1 0 0 0 0 0\n",
      " 0 0 0 0 1 0 0 0 0 0 0 0 0 0 1 1 0 0 0 0 0 0 1 1 0 1 0 1 0 0 1 1 1 0 0 0 0\n",
      " 0 0 1 0 0 0 1 0 0 1 1 0 0 0 0 0 0 0 1 1 0 1 0 0 0 0 1 1 0 0 0 0 0 1 0 0 0\n",
      " 0 1 1 0 0 0 1 1 0 1 0 0 0 0 0 0 0 0 1 0 0 1 1 0 0 0 0 0 0 1 0 1 0 0 0 0 0\n",
      " 1 0 0 0 1 1 0 1 0 0 0 0 1 0 0 1 0 0 0 0 0 0 0 0 0 1 1 1 0 0 1 1 0 1 0 0 0\n",
      " 0 1 0 0 0 1 0 1 0 1 0 1 0 1 1 0 1 0 0 0 0 0 0 0 0 0 1 1 0 1 0 0 0 0 0 1 0\n",
      " 1 0 1 1 1 0 1 0 1 0 0 1 1 0 0 0 0 0 0 0 1 0 1 1 0 0 0 0 0 1 0 0 0 1 1 0 0\n",
      " 0 1 0 1 0 1 0 0 0 0 0 0 0 0 1 0 1 0 0 1 0 0 0 0 0 0 0 0 0 0 0 0 1 1 0 1]\n",
      "Y_test:\n",
      " [0 0 0 0 1 0 0 0 0 1 1 0 1 1 0 0 0 0 0 0 1 0 1 1 0 1 1 1 0 1 1 1 0 0 1 0 1\n",
      " 0 0 0 0 1 0 0 0 0 0 0 0 0 0 1 1 0 1 0 0 0 1 0 1 0 1 0 0 0 1 0 0 1 1 0 0 0\n",
      " 0 0 1 0 1 0 0 1 0 1 1 0 0 1 0 0 0 1 1 0 0 1 0 0 0 0 1 1 0 0 0 1 0 1 0 0 0\n",
      " 0 1 1 0 1 0 1 1 0 1 0 0 1 0 0 1 0 1 1 1 0 1 0 0 0 0 1 0 0 0 1 1 0 0 0 0 0\n",
      " 0 0 0 1 1 1 0 1 0 0 1 0 1 0 0 1 1 0 1 0 0 0 0 1 1 1 1 1 0 0 1 0 0 1 0 0 1\n",
      " 0 1 0 0 0 1 1 1 0 0 0 1 1 1 1 0 1 1 0 1 0 0 1 1 0 0 1 0 0 1 0 0 0 0 0 1 0\n",
      " 1 1 1 1 1 0 1 1 0 1 0 1 1 0 0 0 0 0 1 0 1 0 1 1 1 0 1 0 1 1 1 0 0 1 1 0 0\n",
      " 0 1 0 1 1 1 0 0 0 1 0 0 0 0 1 0 1 0 0 1 0 0 0 0 0 0 0 0 1 0 0 0 1 0 0 1]\n",
      "Accuracy:78.98%\n"
     ]
    }
   ],
   "source": [
    "from sklearn.externals import joblib\n",
    "from xgboost import XGBClassifier\n",
    "from sklearn.model_selection import train_test_split\n",
    "from sklearn.metrics import accuracy_score\n",
    "\n",
    "#我们所需要的特征量features\n",
    "features = ['Pclass','Age','Sex','SibSp','Parch','Fare','Embarked']\n",
    "\n",
    "X = titanic.loc[:,features]  #iloc[]切片按行列标签\n",
    "Y = titanic.loc[:,'Survived']\n",
    "#print('数据特征X：\\n',X)\n",
    "#print('数据的标签Y：\\n',Y)\n",
    "\n",
    "#将X 和Y split为训练集train 和测试集test\n",
    "#split X and Y into train and test\n",
    "seed = 7\n",
    "test_size = 0.33 #将数据集中33%的数据用来测试\n",
    "X_train,X_test,Y_train,Y_test = train_test_split(X,Y,test_size=test_size,random_state=seed)\n",
    "print('X_train_shape:',X_train.shape)\n",
    "print('X_test_shape:',X_test.shape)\n",
    "print('Y_train_shape:',Y_train.shape)\n",
    "print('Y_test_shape:',Y_test.shape)\n",
    "#训练XGBClassifier分类模型\n",
    "model = XGBClassifier(learning_rate=0.001,n_estimators=2500,\n",
    "                                max_depth=4, min_child_weight=0,\n",
    "                                gamma=0, subsample=0.7,\n",
    "                                colsample_bytree=0.7,\n",
    "                                scale_pos_weight=1, seed=27,\n",
    "                                reg_alpha=0.00006).fit(X_train,Y_train)\n",
    "\n",
    "#保存训练的模型\n",
    "joblib.dump(model,'titanic_XGboost_model')\n",
    "\n",
    "#加载模型\n",
    "load_model = joblib.load('titanic_XGboost_model')\n",
    "\n",
    "#用测试集对分类的结果进行预测，看分类模型的准确率\n",
    "Y_pred = load_model.predict(X_test)\n",
    "print('Y_pred:\\n',Y_pred)\n",
    "print('Y_test:\\n',Y_test.values)\n",
    "predictions = [round(value) for value in Y_pred]\n",
    "#accuracy准确率为测试集标签的预测与实际测试集标签之间的正确率，也可以用来看我数据的分类是否合理\n",
    "accuracy = accuracy_score(Y_test,predictions)\n",
    "print('Accuracy:%.2f%%'%(accuracy*100))"
   ]
  },
  {
   "cell_type": "markdown",
   "metadata": {},
   "source": [
    "2、利用线性回归LinearRegression,进行分类"
   ]
  },
  {
   "cell_type": "code",
   "execution_count": 135,
   "metadata": {},
   "outputs": [
    {
     "name": "stdout",
     "output_type": "stream",
     "text": [
      "数据的原标签（1表示获救）：\n",
      " [0, 1, 1, 1, 0, 0, 0, 0, 1, 1, 1, 1, 0, 0, 0, 1, 0, 1, 0, 1, 0, 1, 1, 1, 0, 1, 0, 0, 1, 0, 0, 1, 1, 0, 0, 0, 1, 0, 0, 1, 0, 0, 0, 1, 1, 0, 0, 1, 0, 0, 0, 0, 1, 1, 0, 1, 1, 0, 1, 0, 0, 1, 0, 0, 0, 1, 1, 0, 1, 0, 0, 0, 0, 0, 1, 0, 0, 0, 1, 1, 0, 1, 1, 0, 1, 1, 0, 0, 1, 0, 0, 0, 0, 0, 0, 0, 0, 1, 1, 0, 0, 0, 0, 0, 0, 0, 1, 1, 0, 1, 0, 0, 0, 0, 0, 0, 0, 0, 0, 0, 0, 0, 0, 1, 0, 1, 0, 1, 1, 0, 0, 0, 0, 1, 0, 0, 1, 0, 0, 0, 0, 1, 1, 0, 0, 0, 1, 0, 0, 0, 0, 1, 0, 0, 0, 0, 1, 0, 0, 0, 0, 1, 0, 0, 0, 1, 1, 0, 0, 0, 0, 0, 1, 0, 0, 0, 0, 0, 0, 0, 0, 0, 0, 1, 1, 0, 1, 1, 0, 0, 1, 0, 1, 1, 1, 1, 0, 0, 1, 0, 0, 0, 0, 0, 1, 0, 0, 1, 1, 1, 0, 1, 0, 0, 0, 1, 1, 0, 1, 0, 1, 0, 0, 0, 1, 0, 1, 0, 0, 0, 1, 0, 0, 1, 0, 0, 0, 1, 0, 0, 0, 1, 0, 0, 0, 0, 0, 1, 1, 0, 0, 0, 0, 0, 0, 1, 1, 1, 1, 1, 0, 1, 0, 0, 0, 0, 0, 1, 1, 1, 0, 1, 1, 0, 1, 1, 0, 0, 0, 1, 0, 0, 0, 1, 0, 0, 1, 0, 1, 1, 1, 1, 0, 0, 0, 0, 0, 0, 1, 1, 1, 1, 0, 1, 0, 1, 1, 1, 0, 1, 1, 1, 0, 0, 0, 1, 1, 0, 1, 1, 0, 0, 1, 1, 0, 1, 0, 1, 1, 1, 1, 0, 0, 0, 1, 0, 0, 1, 1, 0, 1, 1, 0, 0, 0, 1, 1, 1, 1, 0, 0, 0, 0, 0, 0, 0, 1, 0, 1, 1, 0, 0, 0, 0, 0, 0, 1, 1, 1, 1, 1, 0, 0, 0, 0, 1, 1, 0, 0, 0, 1, 1, 0, 1, 0, 0, 0, 1, 0, 1, 1, 1, 0, 1, 1, 0, 0, 0, 0, 1, 1, 0, 0, 0, 0, 0, 0, 1, 0, 0, 0, 0, 1, 0, 1, 0, 1, 1, 0, 0, 0, 0, 0, 0, 0, 0, 1, 1, 0, 1, 1, 1, 1, 0, 0, 1, 0, 1, 0, 0, 1, 0, 0, 1, 1, 1, 1, 1, 1, 1, 0, 0, 0, 1, 0, 1, 0, 1, 1, 0, 1, 0, 0, 0, 0, 0, 0, 0, 0, 1, 0, 0, 1, 1, 0, 0, 0, 0, 0, 1, 0, 0, 0, 1, 1, 0, 1, 0, 0, 1, 0, 0, 0, 0, 0, 0, 1, 0, 0, 0, 0, 0, 0, 0, 1, 0, 1, 1, 0, 1, 1, 0, 1, 1, 0, 0, 1, 0, 1, 0, 1, 0, 0, 1, 0, 0, 1, 0, 0, 0, 1, 0, 0, 1, 0, 1, 0, 1, 0, 1, 1, 0, 0, 1, 0, 0, 1, 1, 0, 1, 1, 0, 0, 1, 1, 0, 1, 0, 1, 1, 0, 0, 0, 0, 0, 0, 0, 0, 0, 1, 1, 1, 1, 1, 0, 0, 1, 1, 0, 1, 1, 1, 0, 0, 0, 1, 0, 1, 0, 0, 0, 1, 0, 0, 0, 0, 1, 0, 0, 1, 1, 0, 0, 0, 1, 0, 0, 1, 1, 1, 0, 0, 1, 0, 0, 1, 0, 0, 1, 0, 0, 1, 1, 0, 0, 0, 0, 1, 0, 0, 1, 0, 1, 0, 0, 1, 0, 0, 0, 0, 0, 1, 0, 1, 1, 1, 0, 1, 0, 1, 0, 1, 0, 1, 0, 0, 0, 0, 0, 0, 1, 0, 0, 0, 1, 0, 0, 0, 0, 1, 1, 0, 0, 1, 0, 0, 0, 1, 0, 1, 0, 1, 0, 0, 0, 0, 0, 0, 0, 1, 1, 1, 1, 0, 0, 0, 0, 1, 0, 0, 1, 1, 0, 0, 0, 0, 1, 1, 1, 1, 1, 0, 1, 0, 0, 0, 1, 1, 0, 0, 1, 0, 0, 0, 1, 0, 1, 1, 0, 0, 1, 0, 0, 0, 0, 0, 0, 1, 0, 0, 1, 0, 1, 0, 1, 0, 0, 1, 0, 0, 1, 1, 0, 0, 1, 1, 0, 0, 0, 1, 0, 0, 1, 1, 0, 1, 0, 0, 0, 0, 0, 0, 0, 0, 1, 0, 0, 1, 0, 1, 1, 1, 0, 0, 0, 0, 1, 0, 1, 0, 0, 0, 0, 0, 0, 0, 1, 1, 0, 0, 0, 1, 1, 1, 1, 0, 0, 0, 0, 1, 0, 0, 0, 0, 0, 0, 0, 0, 0, 0, 1, 1, 0, 1, 0, 0, 0, 1, 1, 1, 1, 1, 0, 0, 0, 1, 0, 0, 1, 1, 0, 0, 1, 0, 0, 0, 0, 0, 0, 1, 0, 0, 0, 1, 0, 1, 1, 1, 1, 0, 0, 0, 1, 0, 0, 1, 1, 0, 0, 1, 0, 1, 0, 0, 1, 1, 0, 0, 0, 1, 1, 0, 0, 0, 0, 0, 0, 1, 0, 1, 0]\n",
      "预测的标签（1表示获救）：\n",
      " [1. 1. 0. 1. 0. 0. 0. 1. 0. 0. 0. 1. 1. 1. 0. 0. 0. 0. 0. 0. 0. 0. 1. 0.\n",
      " 1. 0. 1. 0. 1. 0. 1. 0. 0. 0. 0. 0. 1. 0. 0. 1. 0. 1. 0. 1. 0. 1. 0. 1.\n",
      " 0. 0. 0. 1. 0. 0. 0. 0. 0. 0. 0. 0. 0. 1. 0. 1. 1. 0. 0. 1. 1. 1. 0. 1.\n",
      " 0. 1. 0. 0. 0. 0. 1. 0. 0. 0. 0. 0. 0. 0. 1. 1. 1. 1. 0. 1. 0. 1. 1. 0.\n",
      " 0. 0. 0. 0. 0. 0. 0. 1. 0. 0. 1. 0. 0. 1. 0. 1. 1. 0. 0. 1. 0. 1. 0. 1.\n",
      " 0. 0. 0. 0. 0. 0. 1. 0. 0. 1. 1. 0. 1. 1. 0. 0. 1. 1. 1. 0. 1. 0. 0. 1.\n",
      " 0. 0. 0. 1. 0. 0. 1. 1. 0. 0. 0. 0. 1. 0. 1. 0. 0. 0. 0. 1. 0. 1. 1. 0.\n",
      " 0. 0. 0. 1. 0. 1. 0. 0. 0. 1. 1. 0. 0. 1. 0. 0. 1. 1. 0. 0. 0. 0. 0. 0.\n",
      " 0. 0. 0. 1. 0. 1. 1. 0. 0. 0. 0. 0. 1. 0. 1. 1. 0. 1. 0. 1. 1. 1. 0. 0.\n",
      " 1. 0. 0. 0. 1. 1. 0. 1. 0. 0. 0. 0. 0. 1. 0. 0. 1. 0. 0. 1. 0. 0. 0. 1.\n",
      " 1. 1. 1. 1. 0. 0. 1. 0. 1. 0. 0. 1. 0. 0. 0. 0. 0. 0. 0. 1. 0. 0. 0. 0.\n",
      " 0. 1. 1. 1. 1. 1. 0. 1. 1. 0. 0. 1. 0. 0. 0. 1. 1. 0. 0. 0. 0. 1. 0. 1.\n",
      " 0. 1. 1. 1. 0. 1. 0. 0. 0. 1. 0. 0. 0. 1. 1. 1. 0. 1. 1. 0. 1. 0. 0. 0.\n",
      " 0. 1. 0. 0. 0. 1. 0. 1. 0. 1. 0. 0. 0. 1. 1. 0. 0. 0. 1. 0. 0. 1. 0. 0.\n",
      " 1. 0. 0. 0. 0. 0. 0. 0. 1. 0. 0. 0. 1. 0. 0. 0. 0. 1. 0. 1. 0. 0. 0. 1.\n",
      " 0. 0. 0. 1. 1. 0. 0. 0. 0. 0. 0. 0. 0. 0. 0. 1. 0. 0. 0. 0. 0. 1. 0. 0.\n",
      " 0. 0. 1. 0. 1. 1. 0. 1. 0. 0. 0. 1. 1. 0. 1. 1. 1. 0. 0. 0. 0. 0. 1. 1.\n",
      " 0. 0. 0. 1. 1. 0. 0. 0. 0. 0. 0. 0. 0. 0. 1. 1. 1. 0. 1. 1. 0. 0. 0. 1.\n",
      " 0. 0. 0. 0. 0. 0. 1. 0. 0. 1. 0. 0. 1. 1. 1. 0. 0. 1. 0. 1. 1. 1. 0. 1.\n",
      " 1. 1. 0. 0. 1. 0. 1. 0. 0. 0. 0. 0. 1. 0. 1. 0. 0. 1. 1. 0. 1. 0. 1. 1.\n",
      " 0. 0. 1. 1. 0. 0. 0. 1. 1. 1. 1. 0. 1. 0. 0. 1. 0. 0. 1. 0. 1. 1. 1. 0.\n",
      " 1. 0. 1. 0. 0. 0. 0. 0. 1. 0. 0. 0. 0. 0. 1. 0. 1. 1. 0. 1. 1. 1. 0. 0.\n",
      " 0. 0. 0. 1. 0. 0. 0. 1. 0. 0. 0. 0. 0. 0. 0. 0. 1. 0. 0. 0. 0. 0. 0. 0.\n",
      " 0. 0. 0. 1. 0. 1. 1. 0. 1. 0. 1. 1. 1. 0. 1. 0. 1. 1. 0. 0. 0. 0. 1. 1.\n",
      " 0. 0. 0. 0. 1. 1. 0. 0. 1. 0. 1. 0. 0. 1. 1. 1. 1. 0. 1. 0. 0. 1. 0. 1.\n",
      " 0. 0. 0. 0. 0. 1. 0. 0. 1. 0. 1. 0. 0. 0. 0. 1. 1. 0. 1. 0. 0. 0. 0. 0.\n",
      " 0. 1. 1. 1. 1. 0. 1. 0. 0. 1. 1. 1. 1. 1. 0. 0. 0. 0. 0. 0. 1. 0. 1. 0.\n",
      " 0. 0. 0. 0. 1. 0. 0. 1. 0. 1. 1. 0. 1. 1. 0. 0. 0. 0. 0. 0. 0. 0. 0. 0.\n",
      " 0. 0. 0. 0. 1. 0. 0. 0. 1. 0. 1. 1. 0. 0. 0. 1. 0. 0. 0. 1. 1. 0. 1. 1.\n",
      " 0. 0. 0. 0. 0. 1. 0. 0. 1. 0. 0. 0. 0. 0. 0. 0. 0. 1. 0. 0. 0. 0. 0. 0.\n",
      " 1. 0. 1. 0. 0. 0. 0. 1. 0. 1. 0. 0. 0. 0. 0. 0. 1. 0. 0. 0. 0. 1. 0. 0.\n",
      " 0. 1. 0. 0. 1. 0. 1. 0. 0. 0. 0. 0. 1. 0. 0. 0. 1. 0. 0. 0. 0. 0. 0. 1.\n",
      " 1. 0. 0. 0. 0. 0. 0. 0. 1. 0. 0. 0. 0. 0. 0. 0. 0. 0. 0. 1. 0. 1. 0. 1.\n",
      " 0. 0. 0. 1. 0. 0. 1. 1. 1. 0. 0. 1. 1. 0. 0. 0. 1. 0. 0. 0. 0. 0. 0. 1.\n",
      " 0. 0. 1. 0. 0. 0. 1. 1. 0. 0. 1. 1. 1. 0. 0. 0. 1. 0. 1. 1. 0. 1. 1. 1.\n",
      " 1. 1. 0. 1. 0. 0. 1. 0. 0. 0. 0. 0. 0. 0. 0. 1. 0. 1. 0. 1. 1. 0. 0. 1.\n",
      " 0. 0. 0. 0. 0. 1. 0. 0. 0. 1. 0. 0. 0. 0. 0. 0. 0. 0. 1. 1. 0. 0. 1. 1.\n",
      " 0. 0. 1.]\n",
      "模型在训练集上的分类的准确度：78.98%\n"
     ]
    }
   ],
   "source": [
    "from sklearn.linear_model import LinearRegression\n",
    "from sklearn.model_selection import KFold\n",
    "import numpy as np\n",
    "\n",
    "#我们所需要的特征量features\n",
    "features = ['Pclass','Age','Sex','SibSp','Parch','Fare','Embarked']\n",
    "# print(titanic[features])\n",
    "\n",
    "model = LinearRegression()\n",
    "kf = KFold(n_splits = 10,random_state = 1,shuffle=True)\n",
    "\n",
    "predictions = []\n",
    "\n",
    "for train,test in kf.split(titanic):\n",
    "    train_features = titanic[features].iloc[train,:]\n",
    "    train_label = titanic['Survived'].iloc[train]\n",
    "    model.fit(train_features,train_label)\n",
    "    test_predictions = model.predict(titanic[features].iloc[test,:])\n",
    "    predictions.append(test_predictions)\n",
    "# print(predictions)\n",
    "predictions = np.concatenate(predictions,axis=0)\n",
    "# print(predictions)\n",
    "#predictions中存放的是test样本中预测的概率\n",
    "predictions[predictions>0.5]=1\n",
    "predictions[predictions<=0.5]=0\n",
    "print('数据的原标签（1表示获救）：\\n',titanic['Survived'].to_list())\n",
    "print('预测的标签（1表示获救）：\\n',predictions)\n",
    "accurary = sum(predictions[predictions==titanic['Survived']])/len(predictions)\n",
    "print('模型在训练集上的分类的准确度：%.2f%%'%(accuracy*100))"
   ]
  },
  {
   "cell_type": "markdown",
   "metadata": {},
   "source": [
    "3、利用随机森林进行分类"
   ]
  },
  {
   "cell_type": "code",
   "execution_count": 136,
   "metadata": {},
   "outputs": [
    {
     "name": "stdout",
     "output_type": "stream",
     "text": [
      "模型在训练集上的分类准确率：79.01%\n"
     ]
    }
   ],
   "source": [
    "from sklearn.ensemble import RandomForestClassifier\n",
    "from sklearn.model_selection import KFold\n",
    "from sklearn.model_selection import cross_val_score\n",
    "\n",
    "features = ['Pclass','Age','Sex','SibSp','Parch','Fare','Embarked']\n",
    "model = RandomForestClassifier(random_state=1,n_estimators=10,min_samples_split=2,min_samples_leaf=1)\n",
    "# n_estimators=10 随机森林里要构建树的个数  min_samples_split=2 数据最小切分个数  min_samples_leaf=1 叶子结点的最小个数\n",
    "kf = KFold(n_splits=3,random_state=1,shuffle=False)\n",
    "scores = cross_val_score(model,titanic[features],titanic['Survived'],cv=kf)\n",
    "print('模型在训练集上的分类准确率：%.2f%%'%(scores.mean()*100))"
   ]
  },
  {
   "cell_type": "code",
   "execution_count": 91,
   "metadata": {},
   "outputs": [
    {
     "name": "stdout",
     "output_type": "stream",
     "text": [
      "模型在训练集上的分类准确率：82.38%\n"
     ]
    }
   ],
   "source": [
    "#对随机森林的参数 n_estimators,min_samples_split,min_samples_leaf 简单调节\n",
    "from sklearn.ensemble import RandomForestClassifier\n",
    "from sklearn.model_selection import KFold\n",
    "from sklearn.model_selection import cross_val_score\n",
    "\n",
    "features = ['Pclass','Age','Sex','SibSp','Parch','Fare','Embarked']\n",
    "model = RandomForestClassifier(random_state=1,n_estimators=50,min_samples_split=4,min_samples_leaf=2)\n",
    "# n_estimators=10 随机森林里要构建树的个数  min_samples_split=2 数据最小切分个数  min_samples_leaf=1 叶子结点的最小个数\n",
    "kf = KFold(n_splits=3,random_state=1,shuffle=False)\n",
    "scores = cross_val_score(model,titanic[features],titanic['Survived'],cv=kf)\n",
    "print('模型在训练集上的分类准确率：%.2f%%'%(scores.mean()*100))"
   ]
  },
  {
   "cell_type": "markdown",
   "metadata": {},
   "source": [
    "4、K近邻算法（既可以用于多分类，也可以用于回归）"
   ]
  },
  {
   "cell_type": "code",
   "execution_count": 92,
   "metadata": {},
   "outputs": [
    {
     "name": "stdout",
     "output_type": "stream",
     "text": [
      "Y_pred:\n",
      " [0 0 0 0 1 1 0 0 0 1 1 0 1 1 0 0 0 0 0 0 0 0 0 0 0 1 1 0 0 1 1 1 0 0 0 0 0\n",
      " 0 0 0 0 1 0 0 0 0 0 0 0 0 0 1 1 0 0 0 0 0 0 0 1 0 1 0 1 0 0 1 1 1 0 0 0 0\n",
      " 0 0 1 0 1 0 1 0 0 1 1 0 0 0 0 0 0 0 1 1 0 1 1 0 0 0 1 1 0 0 0 0 0 1 0 0 0\n",
      " 0 1 1 0 0 0 1 1 0 1 0 0 0 0 0 0 0 0 1 0 0 1 1 0 0 1 0 1 0 0 0 1 0 0 0 0 0\n",
      " 0 0 0 0 1 1 0 1 0 0 0 0 1 0 0 1 0 0 0 0 0 0 0 0 0 1 1 1 0 0 1 1 0 1 0 0 0\n",
      " 0 1 0 0 0 1 0 1 0 1 0 1 0 1 1 0 1 1 0 0 0 0 0 0 0 0 1 1 0 1 0 0 0 0 0 1 0\n",
      " 1 0 1 1 1 0 1 0 1 0 0 1 1 0 0 0 0 0 0 0 0 0 1 1 0 0 0 0 0 1 0 0 0 1 1 0 0\n",
      " 0 1 0 1 0 1 0 0 0 0 0 0 0 0 1 0 1 0 0 1 0 0 0 0 0 0 0 0 1 0 0 0 1 1 0 1]\n",
      "Y_test:\n",
      " [0 0 0 0 1 0 0 0 0 1 1 0 1 1 0 0 0 0 0 0 1 0 1 1 0 1 1 1 0 1 1 1 0 0 1 0 1\n",
      " 0 0 0 0 1 0 0 0 0 0 0 0 0 0 1 1 0 1 0 0 0 1 0 1 0 1 0 0 0 1 0 0 1 1 0 0 0\n",
      " 0 0 1 0 1 0 0 1 0 1 1 0 0 1 0 0 0 1 1 0 0 1 0 0 0 0 1 1 0 0 0 1 0 1 0 0 0\n",
      " 0 1 1 0 1 0 1 1 0 1 0 0 1 0 0 1 0 1 1 1 0 1 0 0 0 0 1 0 0 0 1 1 0 0 0 0 0\n",
      " 0 0 0 1 1 1 0 1 0 0 1 0 1 0 0 1 1 0 1 0 0 0 0 1 1 1 1 1 0 0 1 0 0 1 0 0 1\n",
      " 0 1 0 0 0 1 1 1 0 0 0 1 1 1 1 0 1 1 0 1 0 0 1 1 0 0 1 0 0 1 0 0 0 0 0 1 0\n",
      " 1 1 1 1 1 0 1 1 0 1 0 1 1 0 0 0 0 0 1 0 1 0 1 1 1 0 1 0 1 1 1 0 0 1 1 0 0\n",
      " 0 1 0 1 1 1 0 0 0 1 0 0 0 0 1 0 1 0 0 1 0 0 0 0 0 0 0 0 1 0 0 0 1 0 0 1]\n",
      "Accuracy:80.00%\n"
     ]
    }
   ],
   "source": [
    "from sklearn.neighbors import KNeighborsClassifier as KNN\n",
    "from sklearn.model_selection import train_test_split\n",
    "from sklearn.metrics import accuracy_score\n",
    "\n",
    "features = ['Pclass','Age','Sex','SibSp','Parch','Fare','Embarked']\n",
    "X = titanic.loc[:,features]  #iloc[]切片按行列标签\n",
    "Y = titanic.loc[:,'Survived']\n",
    "#print('数据特征X：\\n',X)\n",
    "#print('数据的标签Y：\\n',Y)\n",
    "\n",
    "seed = 7\n",
    "test_size = 0.33 #将数据集中33%的数据用来测试\n",
    "X_train,X_test,Y_train,Y_test = train_test_split(X,Y,test_size=test_size,random_state=seed)\n",
    "model = KNN().fit(X_train,Y_train)\n",
    "y_pred = model.predict(X_test)\n",
    "\n",
    "print('Y_pred:\\n',Y_pred)\n",
    "print('Y_test:\\n',Y_test.values)\n",
    "predictions = [round(value) for value in Y_pred]\n",
    "#accuracy准确率为测试集标签的预测与实际测试集标签之间的正确率，也可以用来看我数据的分类是否合理\n",
    "accuracy = accuracy_score(Y_test,predictions)\n",
    "print('Accuracy:%.2f%%'%(accuracy*100))"
   ]
  },
  {
   "cell_type": "markdown",
   "metadata": {},
   "source": [
    "# 四、当参数优化后，准确率变化不大，遇到瓶颈后，我们要回归数据集中，从中在找到有用的特征。"
   ]
  },
  {
   "cell_type": "markdown",
   "metadata": {},
   "source": [
    "通过上面可以发现准确率有小幅提升，但是似乎得到的结果还是不太理想。我们可以发现模型似乎优化的差不多了，使用的特征似乎也已经使用完了。准确率已经达到了瓶颈，但是如果我们还想提高精度的话，还是要回到最原始的数据集里面。对分类器的结果最大的影响还是输入的数据本身。"
   ]
  },
  {
   "cell_type": "markdown",
   "metadata": {},
   "source": [
    "1、新增特征，家庭成员数和名字长度"
   ]
  },
  {
   "cell_type": "code",
   "execution_count": 93,
   "metadata": {},
   "outputs": [],
   "source": [
    "\n",
    "#可能家庭成员的数量对是否获救有关，则对该特征进行提取\n",
    "titanic['FamilySize'] = titanic['SibSp']+titanic['Parch']\n",
    "#可能名字长度对是否获救也有某种潜在的关联\n",
    "titanic['NameLength']=titanic['Name'].apply(lambda x:len(x))"
   ]
  },
  {
   "cell_type": "markdown",
   "metadata": {},
   "source": [
    "提取名字(名字里面包含称呼，如小姐，女士，先生等等)，这些称呼也是有可能对结果产生影响的"
   ]
  },
  {
   "cell_type": "code",
   "execution_count": 94,
   "metadata": {},
   "outputs": [
    {
     "name": "stdout",
     "output_type": "stream",
     "text": [
      "PassengerId\n",
      "1        Mr\n",
      "2       Mrs\n",
      "3      Miss\n",
      "4       Mrs\n",
      "5        Mr\n",
      "       ... \n",
      "887     Rev\n",
      "888    Miss\n",
      "889    Miss\n",
      "890      Mr\n",
      "891      Mr\n",
      "Name: Name, Length: 891, dtype: object\n",
      "Mr          517\n",
      "Miss        182\n",
      "Mrs         125\n",
      "Master       40\n",
      "Dr            7\n",
      "Rev           6\n",
      "Col           2\n",
      "Major         2\n",
      "Mlle          2\n",
      "Capt          1\n",
      "Mme           1\n",
      "Countess      1\n",
      "Jonkheer      1\n",
      "Don           1\n",
      "Lady          1\n",
      "Ms            1\n",
      "Sir           1\n",
      "Name: Name, dtype: int64\n",
      "1     517\n",
      "2     183\n",
      "3     125\n",
      "4      40\n",
      "5       7\n",
      "6       6\n",
      "7       5\n",
      "10      3\n",
      "8       3\n",
      "9       2\n",
      "Name: Name, dtype: int64\n"
     ]
    }
   ],
   "source": [
    "#使用正则表达式来对名字进行提取\n",
    "import re\n",
    "\n",
    "def get_title(name):\n",
    "    #名字总是由大小写字母组成，并以点号（.）结束\n",
    "    #在name中寻找title\n",
    "    title_search = re.search('([A-Za-z]+)\\.',name)\n",
    "    #如果存在\n",
    "    if title_search:\n",
    "        # 数据集的名字如Todoroff, Mr. Lalio 我们要找出其中的Mr 则返回group(1)\n",
    "        return title_search.group(1)\n",
    "    return ''\n",
    "\n",
    "#获取所有title（如Mr，Miss等） 并对其进行统计个数\n",
    "titles = titanic['Name'].apply(get_title)\n",
    "print(titles)\n",
    "print(pd.value_counts(titles))\n",
    "\n",
    "#将字符标签（Mr，Mrs,Miss等）数值化\n",
    "\n",
    "titles_mapping = { \n",
    "    \"Mr\": 1,\n",
    "    \"Miss\": 2,\n",
    "    \"Mrs\": 3,\n",
    "    \"Master\": 4,\n",
    "    \"Dr\": 5,\n",
    "    \"Rev\": 6,\n",
    "    \"Major\": 7,\n",
    "    \"Col\": 7,\n",
    "    \"Mlle\": 8,\n",
    "    \"Mme\": 8,\n",
    "    \"Don\": 9,\n",
    "    \"Lady\": 10,\n",
    "    \"Countess\": 10,\n",
    "    \"Jonkheer\": 10,\n",
    "    \"Sir\": 9,\n",
    "    \"Capt\": 7,\n",
    "    \"Ms\": 2\n",
    "}\n",
    "\n",
    "for k,v in titles_mapping.items():\n",
    "    titles[k==titles]=v\n",
    "print(pd.value_counts(titles))\n",
    "\n",
    "#给原数据添加title特征"
   ]
  },
  {
   "cell_type": "markdown",
   "metadata": {},
   "source": [
    "2、新增titles特征"
   ]
  },
  {
   "cell_type": "code",
   "execution_count": 95,
   "metadata": {},
   "outputs": [
    {
     "name": "stdout",
     "output_type": "stream",
     "text": [
      "新增特征后的train数据集：\n",
      "              Survived  Pclass  \\\n",
      "PassengerId                     \n",
      "1                   0       3   \n",
      "2                   1       1   \n",
      "3                   1       3   \n",
      "4                   1       1   \n",
      "5                   0       3   \n",
      "\n",
      "                                                          Name  Sex   Age  \\\n",
      "PassengerId                                                                 \n",
      "1                                      Braund, Mr. Owen Harris    0  22.0   \n",
      "2            Cumings, Mrs. John Bradley (Florence Briggs Th...    1  38.0   \n",
      "3                                       Heikkinen, Miss. Laina    1  26.0   \n",
      "4                 Futrelle, Mrs. Jacques Heath (Lily May Peel)    1  35.0   \n",
      "5                                     Allen, Mr. William Henry    0  35.0   \n",
      "\n",
      "             SibSp  Parch            Ticket     Fare Cabin  Embarked  \\\n",
      "PassengerId                                                            \n",
      "1                1      0         A/5 21171   7.2500   NaN         0   \n",
      "2                1      0          PC 17599  71.2833   C85         1   \n",
      "3                0      0  STON/O2. 3101282   7.9250   NaN         0   \n",
      "4                1      0            113803  53.1000  C123         0   \n",
      "5                0      0            373450   8.0500   NaN         0   \n",
      "\n",
      "             FamilySize  NameLength titles  \n",
      "PassengerId                                 \n",
      "1                     1          23      1  \n",
      "2                     1          51      3  \n",
      "3                     0          22      2  \n",
      "4                     1          44      3  \n",
      "5                     0          24      1  \n"
     ]
    }
   ],
   "source": [
    "titanic['titles']=titles\n",
    "print('新增特征后的train数据集：\\n',titanic.head())"
   ]
  },
  {
   "cell_type": "markdown",
   "metadata": {},
   "source": [
    "3、对特征的重要性进行选择，特征虽然提取了很多，但并不是每一个都是重要的。，而随机森林的好处就是特征重要性衡量。\n",
    "\n",
    "特征重要性解释：在机器学习的训练过程中，对于多个特征来说，假如要对其中某一个特征来衡量它的重要性，我们就不用这个特征的数据来进行训练，而是把这个特征里面的数据全部替换为噪音数据，假如得到的准确率没有太大的变化，那就说明这个特征其实不那么重要，如果得到的准确率相差太大的话，说明这个特征很重要。其他特征的重要衡量以此类推。"
   ]
  },
  {
   "cell_type": "code",
   "execution_count": 96,
   "metadata": {},
   "outputs": [
    {
     "name": "stdout",
     "output_type": "stream",
     "text": [
      "提取特征后的数据：\n",
      "              Pclass   Age  Sex  SibSp  Parch     Fare  Embarked  FamilySize  \\\n",
      "PassengerId                                                                   \n",
      "1                 3  22.0    0      1      0   7.2500         0           1   \n",
      "2                 1  38.0    1      1      0  71.2833         1           1   \n",
      "3                 3  26.0    1      0      0   7.9250         0           0   \n",
      "4                 1  35.0    1      1      0  53.1000         0           1   \n",
      "5                 3  35.0    0      0      0   8.0500         0           0   \n",
      "\n",
      "             NameLength titles  \n",
      "PassengerId                     \n",
      "1                    23      1  \n",
      "2                    51      3  \n",
      "3                    22      2  \n",
      "4                    44      3  \n",
      "5                    24      1  \n",
      "每个特征的得分列表：\n",
      " [24.59567142  1.27768955 68.85199425  0.5342545   1.82976043 14.21323514\n",
      "  1.72647127  0.20768458 23.69319016 26.98338607]\n"
     ]
    },
    {
     "data": {
      "image/png": "[encoded data removed]",
      "text/plain": [
       "<Figure size 432x288 with 1 Axes>"
      ]
     },
     "metadata": {
      "needs_background": "light"
     },
     "output_type": "display_data"
    }
   ],
   "source": [
    "import numpy as np\n",
    "from sklearn.feature_selection import SelectKBest,f_classif #选择最好特征\n",
    "import matplotlib.pyplot as plt\n",
    "\n",
    "features = ['Pclass','Age','Sex','SibSp','Parch','Fare','Embarked','FamilySize','NameLength','titles']\n",
    "print('提取特征后的数据：\\n',titanic[features].head())\n",
    "\n",
    "#执行特征选择\n",
    "selector = SelectKBest(f_classif,k=5) \n",
    "selector.fit(titanic[features],titanic['Survived']) \n",
    "\n",
    "#获取每个特征的得分\n",
    "scores = -np.log10(selector.pvalues_)\n",
    "print('每个特征的得分列表：\\n',scores)\n",
    "\n",
    "#绘制得分图，看哪些特征对我们来说是重要的\n",
    "plt.bar(range(len(features)),scores)\n",
    "plt.xticks(range(len(features)),features,rotation = 'vertical') #用features中的特征名来代替range(len(features))\n",
    "plt.show()\n"
   ]
  },
  {
   "cell_type": "markdown",
   "metadata": {},
   "source": [
    "上图就是特征重要性的一个柱状图，发现Age等一些特征好像影响不大，和刚开始的假设有较大出入，那么这些没用的特征就可以删除掉，只保留有用的特征即可"
   ]
  },
  {
   "cell_type": "markdown",
   "metadata": {},
   "source": [
    "# 五、集成算法\n",
    "\n",
    "只追求精度的情况下，不考虑时间和资源（通常在机器学习的竞赛中用的比较多），可用多种本质上不同的分类算法进行集成。"
   ]
  },
  {
   "cell_type": "code",
   "execution_count": 139,
   "metadata": {},
   "outputs": [
    {
     "name": "stdout",
     "output_type": "stream",
     "text": [
      "用交叉验证中的每一折test预测的标签：\n",
      " [0. 1. 1. 1. 0. 0. 0. 0. 1. 1. 1. 1. 0. 0. 1. 1. 0. 0. 1. 1. 0. 0. 1. 0.\n",
      " 0. 0. 0. 1. 1. 0. 0. 1. 1. 0. 1. 0. 0. 0. 0. 1. 0. 1. 0. 1. 1. 0. 0. 1.\n",
      " 0. 1. 0. 0. 1. 1. 1. 0. 1. 0. 1. 0. 0. 1. 1. 0. 0. 0. 1. 0. 0. 0. 0. 0.\n",
      " 0. 0. 0. 0. 0. 0. 1. 0. 0. 0. 1. 0. 1. 1. 0. 0. 1. 0. 0. 0. 0. 0. 0. 0.\n",
      " 0. 1. 1. 0. 1. 0. 0. 0. 0. 0. 0. 0. 0. 0. 0. 0. 0. 0. 0. 0. 0. 0. 0. 0.\n",
      " 0. 0. 0. 1. 0. 1. 0. 0. 1. 0. 0. 0. 0. 1. 0. 0. 1. 1. 0. 0. 1. 1. 1. 0.\n",
      " 0. 0. 0. 0. 0. 0. 0. 1. 0. 0. 0. 0. 1. 0. 0. 0. 0. 1. 0. 0. 0. 1. 1. 0.\n",
      " 0. 1. 0. 0. 1. 0. 0. 0. 0. 1. 0. 0. 0. 0. 0. 1. 1. 0. 1. 1. 0. 0. 1. 0.\n",
      " 0. 1. 1. 1. 0. 0. 1. 1. 0. 0. 0. 0. 0. 1. 0. 0. 1. 0. 0. 1. 0. 0. 0. 1.\n",
      " 1. 0. 1. 0. 0. 0. 0. 0. 0. 0. 0. 0. 0. 0. 1. 0. 0. 0. 0. 0. 0. 1. 0. 0.\n",
      " 0. 1. 0. 0. 0. 1. 1. 1. 1. 0. 0. 1. 0. 0. 1. 1. 1. 1. 1. 1. 0. 0. 0. 0.\n",
      " 1. 0. 0. 0. 1. 1. 0. 0. 1. 1. 1. 1. 0. 0. 0. 0. 0. 0. 0. 0. 0. 0. 0. 0.\n",
      " 0. 1. 1. 1. 0. 0. 0. 0. 0. 1. 0. 1. 1. 0. 0. 1. 1. 1. 1. 1. 0. 1. 1. 1.\n",
      " 1. 0. 0. 0. 1. 0. 1. 1. 0. 0. 1. 1. 0. 1. 0. 1. 0. 1. 0. 0. 0. 0. 1. 0.\n",
      " 0. 1. 0. 0. 1. 1. 0. 0. 0. 1. 0. 1. 1. 0. 0. 1. 0. 0. 0. 0. 1. 1. 1. 1.\n",
      " 0. 0. 0. 0. 0. 0. 1. 1. 0. 1. 1. 0. 1. 0. 0. 1. 1. 0. 0. 0. 1. 1. 1. 1.\n",
      " 0. 0. 0. 1. 0. 1. 0. 0. 0. 1. 1. 0. 1. 0. 0. 1. 0. 0. 0. 0. 0. 0. 0. 1.\n",
      " 0. 0. 0. 0. 1. 0. 0. 0. 1. 1. 0. 0. 0. 0. 0. 0. 0. 0. 1. 1. 0. 0. 1. 1.\n",
      " 1. 0. 0. 1. 0. 1. 0. 0. 1. 0. 1. 1. 0. 1. 1. 0. 1. 1. 0. 0. 1. 0. 0. 0.\n",
      " 0. 1. 1. 0. 0. 0. 0. 0. 0. 0. 0. 0. 0. 1. 0. 0. 1. 1. 0. 0. 0. 0. 0. 1.\n",
      " 0. 0. 0. 0. 0. 0. 1. 0. 0. 0. 0. 0. 0. 0. 0. 0. 1. 0. 1. 0. 0. 1. 1. 0.\n",
      " 1. 1. 1. 1. 0. 0. 0. 0. 0. 1. 0. 0. 1. 0. 1. 0. 1. 0. 0. 1. 0. 0. 1. 0.\n",
      " 0. 0. 1. 0. 0. 1. 0. 1. 1. 1. 0. 1. 1. 0. 0. 0. 0. 0. 1. 0. 0. 1. 0. 0.\n",
      " 0. 0. 0. 0. 1. 0. 1. 1. 0. 0. 0. 0. 0. 0. 0. 0. 0. 0. 0. 1. 1. 0. 0. 0.\n",
      " 1. 1. 1. 0. 1. 1. 0. 0. 0. 1. 0. 0. 0. 0. 0. 1. 0. 0. 0. 0. 1. 0. 0. 1.\n",
      " 1. 0. 0. 0. 1. 0. 0. 1. 1. 1. 1. 0. 1. 0. 0. 1. 0. 1. 1. 0. 0. 1. 0. 0.\n",
      " 0. 0. 0. 1. 0. 0. 0. 0. 0. 0. 0. 1. 0. 0. 0. 0. 0. 1. 0. 0. 1. 0. 0. 1.\n",
      " 0. 0. 0. 1. 0. 1. 1. 0. 0. 1. 0. 0. 1. 0. 0. 0. 0. 0. 0. 0. 0. 1. 1. 0.\n",
      " 0. 0. 0. 0. 0. 0. 0. 1. 0. 0. 0. 0. 0. 0. 0. 0. 0. 1. 0. 1. 0. 0. 0. 0.\n",
      " 0. 1. 1. 0. 1. 1. 0. 0. 0. 0. 1. 1. 1. 1. 1. 1. 0. 0. 1. 0. 1. 1. 0. 0.\n",
      " 1. 0. 1. 0. 1. 0. 1. 1. 0. 0. 1. 0. 0. 0. 0. 0. 0. 0. 0. 0. 1. 0. 1. 0.\n",
      " 0. 1. 0. 1. 0. 0. 1. 1. 0. 0. 1. 1. 0. 0. 0. 1. 0. 0. 0. 1. 0. 1. 1. 0.\n",
      " 0. 0. 0. 0. 1. 0. 0. 0. 0. 1. 0. 1. 0. 1. 1. 0. 0. 1. 0. 0. 1. 0. 0. 0.\n",
      " 0. 0. 0. 0. 0. 1. 0. 1. 0. 1. 1. 1. 0. 0. 0. 1. 0. 1. 0. 0. 0. 0. 0. 0.\n",
      " 0. 0. 0. 0. 1. 0. 0. 1. 0. 0. 0. 1. 0. 1. 0. 1. 0. 0. 0. 1. 0. 0. 1. 0.\n",
      " 1. 0. 1. 0. 0. 0. 0. 0. 1. 1. 0. 0. 1. 1. 1. 0. 1. 0. 1. 1. 0. 0. 1. 0.\n",
      " 0. 1. 1. 0. 0. 1. 0. 1. 0. 0. 1. 1. 0. 0. 0. 1. 1. 0. 0. 0. 0. 0. 0. 1.\n",
      " 1. 1. 0.]\n",
      "原始数据的标签：\n",
      " [0, 1, 1, 1, 0, 0, 0, 0, 1, 1, 1, 1, 0, 0, 0, 1, 0, 1, 0, 1, 0, 1, 1, 1, 0, 1, 0, 0, 1, 0, 0, 1, 1, 0, 0, 0, 1, 0, 0, 1, 0, 0, 0, 1, 1, 0, 0, 1, 0, 0, 0, 0, 1, 1, 0, 1, 1, 0, 1, 0, 0, 1, 0, 0, 0, 1, 1, 0, 1, 0, 0, 0, 0, 0, 1, 0, 0, 0, 1, 1, 0, 1, 1, 0, 1, 1, 0, 0, 1, 0, 0, 0, 0, 0, 0, 0, 0, 1, 1, 0, 0, 0, 0, 0, 0, 0, 1, 1, 0, 1, 0, 0, 0, 0, 0, 0, 0, 0, 0, 0, 0, 0, 0, 1, 0, 1, 0, 1, 1, 0, 0, 0, 0, 1, 0, 0, 1, 0, 0, 0, 0, 1, 1, 0, 0, 0, 1, 0, 0, 0, 0, 1, 0, 0, 0, 0, 1, 0, 0, 0, 0, 1, 0, 0, 0, 1, 1, 0, 0, 0, 0, 0, 1, 0, 0, 0, 0, 0, 0, 0, 0, 0, 0, 1, 1, 0, 1, 1, 0, 0, 1, 0, 1, 1, 1, 1, 0, 0, 1, 0, 0, 0, 0, 0, 1, 0, 0, 1, 1, 1, 0, 1, 0, 0, 0, 1, 1, 0, 1, 0, 1, 0, 0, 0, 1, 0, 1, 0, 0, 0, 1, 0, 0, 1, 0, 0, 0, 1, 0, 0, 0, 1, 0, 0, 0, 0, 0, 1, 1, 0, 0, 0, 0, 0, 0, 1, 1, 1, 1, 1, 0, 1, 0, 0, 0, 0, 0, 1, 1, 1, 0, 1, 1, 0, 1, 1, 0, 0, 0, 1, 0, 0, 0, 1, 0, 0, 1, 0, 1, 1, 1, 1, 0, 0, 0, 0, 0, 0, 1, 1, 1, 1, 0, 1, 0, 1, 1, 1, 0, 1, 1, 1, 0, 0, 0, 1, 1, 0, 1, 1, 0, 0, 1, 1, 0, 1, 0, 1, 1, 1, 1, 0, 0, 0, 1, 0, 0, 1, 1, 0, 1, 1, 0, 0, 0, 1, 1, 1, 1, 0, 0, 0, 0, 0, 0, 0, 1, 0, 1, 1, 0, 0, 0, 0, 0, 0, 1, 1, 1, 1, 1, 0, 0, 0, 0, 1, 1, 0, 0, 0, 1, 1, 0, 1, 0, 0, 0, 1, 0, 1, 1, 1, 0, 1, 1, 0, 0, 0, 0, 1, 1, 0, 0, 0, 0, 0, 0, 1, 0, 0, 0, 0, 1, 0, 1, 0, 1, 1, 0, 0, 0, 0, 0, 0, 0, 0, 1, 1, 0, 1, 1, 1, 1, 0, 0, 1, 0, 1, 0, 0, 1, 0, 0, 1, 1, 1, 1, 1, 1, 1, 0, 0, 0, 1, 0, 1, 0, 1, 1, 0, 1, 0, 0, 0, 0, 0, 0, 0, 0, 1, 0, 0, 1, 1, 0, 0, 0, 0, 0, 1, 0, 0, 0, 1, 1, 0, 1, 0, 0, 1, 0, 0, 0, 0, 0, 0, 1, 0, 0, 0, 0, 0, 0, 0, 1, 0, 1, 1, 0, 1, 1, 0, 1, 1, 0, 0, 1, 0, 1, 0, 1, 0, 0, 1, 0, 0, 1, 0, 0, 0, 1, 0, 0, 1, 0, 1, 0, 1, 0, 1, 1, 0, 0, 1, 0, 0, 1, 1, 0, 1, 1, 0, 0, 1, 1, 0, 1, 0, 1, 1, 0, 0, 0, 0, 0, 0, 0, 0, 0, 1, 1, 1, 1, 1, 0, 0, 1, 1, 0, 1, 1, 1, 0, 0, 0, 1, 0, 1, 0, 0, 0, 1, 0, 0, 0, 0, 1, 0, 0, 1, 1, 0, 0, 0, 1, 0, 0, 1, 1, 1, 0, 0, 1, 0, 0, 1, 0, 0, 1, 0, 0, 1, 1, 0, 0, 0, 0, 1, 0, 0, 1, 0, 1, 0, 0, 1, 0, 0, 0, 0, 0, 1, 0, 1, 1, 1, 0, 1, 0, 1, 0, 1, 0, 1, 0, 0, 0, 0, 0, 0, 1, 0, 0, 0, 1, 0, 0, 0, 0, 1, 1, 0, 0, 1, 0, 0, 0, 1, 0, 1, 0, 1, 0, 0, 0, 0, 0, 0, 0, 1, 1, 1, 1, 0, 0, 0, 0, 1, 0, 0, 1, 1, 0, 0, 0, 0, 1, 1, 1, 1, 1, 0, 1, 0, 0, 0, 1, 1, 0, 0, 1, 0, 0, 0, 1, 0, 1, 1, 0, 0, 1, 0, 0, 0, 0, 0, 0, 1, 0, 0, 1, 0, 1, 0, 1, 0, 0, 1, 0, 0, 1, 1, 0, 0, 1, 1, 0, 0, 0, 1, 0, 0, 1, 1, 0, 1, 0, 0, 0, 0, 0, 0, 0, 0, 1, 0, 0, 1, 0, 1, 1, 1, 0, 0, 0, 0, 1, 0, 1, 0, 0, 0, 0, 0, 0, 0, 1, 1, 0, 0, 0, 1, 1, 1, 1, 0, 0, 0, 0, 1, 0, 0, 0, 0, 0, 0, 0, 0, 0, 0, 1, 1, 0, 1, 0, 0, 0, 1, 1, 1, 1, 1, 0, 0, 0, 1, 0, 0, 1, 1, 0, 0, 1, 0, 0, 0, 0, 0, 0, 1, 0, 0, 0, 1, 0, 1, 1, 1, 1, 0, 0, 0, 1, 0, 0, 1, 1, 0, 0, 1, 0, 1, 0, 0, 1, 1, 0, 0, 0, 1, 1, 0, 0, 0, 0, 0, 0, 1, 0, 1, 0]\n",
      "在训练集上，集成算法的准确性：83.16%\n"
     ]
    }
   ],
   "source": [
    "from sklearn.ensemble import GradientBoostingClassifier\n",
    "from sklearn.linear_model import LogisticRegression\n",
    "from sklearn.model_selection import KFold\n",
    "import numpy as np\n",
    "\n",
    "#组合我们要集成的算法，将多种算法集成为一个模型\n",
    "features = ['Pclass','Age','Sex','Fare','Embarked','FamilySize','NameLength','titles']\n",
    "# features = ['Pclass','Age','Sex','Fare','Embarked','FamilySize','titles']\n",
    "model = [\n",
    "    [GradientBoostingClassifier(random_state=1,n_estimators=1000,min_samples_split=4,min_samples_leaf=2,max_depth=4),features],\n",
    "    [LogisticRegression(random_state = 1,solver = 'liblinear'),features],\n",
    "]\n",
    "\n",
    "#初始化和交叉验证\n",
    "kf = KFold(n_splits=10,shuffle= False,random_state=1)\n",
    "\n",
    "predictions=[]  \n",
    "for train,test in kf.split(titanic):\n",
    "    train_lable = titanic['Survived'].iloc[train]\n",
    "    full_test_predictions = [] #存放的是一折情况下每个模型的预测的概率\n",
    "    #对集成算法里的每个算法都用每折数据进行预测\n",
    "    for model_i,feature in model:\n",
    "        #用train数据对每个模型进行训练\n",
    "        model_i.fit(titanic[features].iloc[train,:],train_lable)\n",
    "        #避免数据类型的错误，都转换成float型\n",
    "        test_predictions = model_i.predict_proba(titanic[features].iloc[test,:].astype(float))[:,1]\n",
    "#         test_predictions = model_i.predict(titanic[features].iloc[test,:])\n",
    "        full_test_predictions.append(test_predictions)\n",
    "    test_predictions = (full_test_predictions[0]+full_test_predictions[1])/2\n",
    "    test_predictions[test_predictions > 0.5] = 1\n",
    "    test_predictions[test_predictions <= 0.5] = 0\n",
    "    predictions.append(test_predictions)\n",
    "\n",
    "#将所有折test数据的预测结果放在一个数组中\n",
    "predictions = np.concatenate(predictions,axis=0)\n",
    "print('用交叉验证中的每一折test预测的标签：\\n',predictions)\n",
    "\n",
    "print('原始数据的标签：\\n',titanic['Survived'].to_list())\n",
    "\n",
    "#与训练集的数据比较得出正确率\n",
    "accuracy = sum(predictions == titanic['Survived'])/len(predictions)\n",
    "print('在训练集上，集成算法的准确性：%.2F%%'%(accuracy*100))\n",
    "\n"
   ]
  },
  {
   "cell_type": "markdown",
   "metadata": {},
   "source": [
    "# 六、预测\n",
    "\n",
    "由以上各种分类算法可知，集成算法的分类效果最佳，在对test数据集进行预测，我们选用集成算法。\n",
    "\n",
    "可以将上述过程封装成函数，直接在预测部分调用"
   ]
  },
  {
   "cell_type": "code",
   "execution_count": 132,
   "metadata": {},
   "outputs": [
    {
     "name": "stdout",
     "output_type": "stream",
     "text": [
      "             Pclass                                          Name  Sex   Age  \\\n",
      "PassengerId                                                                    \n",
      "892               3                              Kelly, Mr. James    0  34.5   \n",
      "893               3              Wilkes, Mrs. James (Ellen Needs)    1  47.0   \n",
      "894               2                     Myles, Mr. Thomas Francis    0  62.0   \n",
      "895               3                              Wirz, Mr. Albert    0  27.0   \n",
      "896               3  Hirvonen, Mrs. Alexander (Helga E Lindqvist)    1  22.0   \n",
      "\n",
      "             SibSp  Parch   Ticket     Fare Cabin  Embarked  FamilySize  \\\n",
      "PassengerId                                                               \n",
      "892              0      0   330911   7.8292   NaN         3           0   \n",
      "893              1      0   363272   7.0000   NaN         0           1   \n",
      "894              0      0   240276   9.6875   NaN         3           0   \n",
      "895              0      0   315154   8.6625   NaN         0           0   \n",
      "896              1      1  3101298  12.2875   NaN         0           2   \n",
      "\n",
      "             NameLength titles  \n",
      "PassengerId                     \n",
      "892                  16      1  \n",
      "893                  32      3  \n",
      "894                  25      1  \n",
      "895                  16      1  \n",
      "896                  44      3  \n",
      "[0. 0. 0. 0. 1. 0. 1. 0. 1. 0. 0. 0. 1. 0. 1. 1. 0. 0. 1. 1. 0. 0. 1. 0.\n",
      " 1. 0. 1. 0. 0. 0. 0. 0. 0. 1. 0. 0. 1. 1. 0. 0. 0. 0. 0. 1. 1. 0. 0. 0.\n",
      " 1. 0. 0. 0. 1. 1. 0. 0. 0. 0. 0. 1. 0. 0. 0. 1. 1. 1. 1. 0. 0. 1. 1. 0.\n",
      " 1. 0. 1. 1. 0. 1. 0. 1. 0. 0. 0. 0. 0. 0. 1. 1. 1. 1. 1. 0. 1. 0. 0. 0.\n",
      " 1. 0. 1. 0. 1. 0. 0. 0. 1. 0. 0. 0. 0. 0. 0. 1. 1. 1. 1. 0. 0. 1. 0. 1.\n",
      " 1. 0. 1. 0. 0. 1. 0. 1. 0. 0. 0. 1. 0. 0. 0. 0. 0. 0. 1. 0. 0. 1. 0. 0.\n",
      " 0. 0. 0. 0. 0. 0. 1. 0. 0. 0. 0. 0. 1. 1. 0. 1. 1. 0. 1. 0. 0. 1. 0. 0.\n",
      " 1. 1. 0. 0. 0. 0. 0. 1. 1. 0. 1. 1. 0. 0. 1. 0. 1. 0. 1. 0. 0. 0. 0. 0.\n",
      " 0. 0. 0. 0. 1. 1. 0. 1. 1. 0. 1. 1. 0. 0. 1. 0. 1. 0. 0. 0. 0. 1. 0. 0.\n",
      " 1. 0. 1. 0. 1. 0. 1. 0. 1. 1. 0. 1. 0. 0. 0. 1. 0. 0. 0. 0. 0. 0. 1. 1.\n",
      " 1. 1. 0. 0. 0. 0. 1. 0. 1. 1. 1. 0. 1. 0. 0. 0. 0. 0. 1. 0. 0. 0. 1. 1.\n",
      " 0. 0. 0. 0. 1. 0. 0. 0. 1. 1. 0. 1. 0. 0. 0. 0. 1. 0. 1. 1. 1. 0. 0. 0.\n",
      " 0. 0. 0. 1. 0. 0. 0. 0. 1. 0. 0. 0. 0. 0. 0. 0. 1. 1. 0. 0. 0. 0. 0. 0.\n",
      " 0. 1. 1. 1. 0. 0. 0. 0. 0. 0. 0. 0. 1. 0. 1. 0. 0. 0. 1. 0. 0. 1. 0. 0.\n",
      " 0. 0. 0. 0. 0. 0. 0. 1. 0. 1. 0. 1. 0. 1. 1. 0. 0. 0. 1. 0. 1. 0. 0. 1.\n",
      " 0. 1. 1. 0. 1. 0. 0. 1. 1. 0. 0. 1. 0. 0. 1. 1. 1. 0. 0. 0. 0. 0. 1. 1.\n",
      " 0. 1. 0. 0. 0. 0. 1. 1. 0. 0. 0. 1. 0. 1. 0. 0. 1. 0. 1. 1. 0. 0. 0. 0.\n",
      " 1. 1. 1. 1. 1. 0. 1. 0. 0. 0.]\n",
      "             Survived\n",
      "PassengerId          \n",
      "892                 0\n",
      "893                 0\n",
      "894                 0\n",
      "895                 0\n",
      "896                 1\n",
      "...               ...\n",
      "1305                0\n",
      "1306                1\n",
      "1307                0\n",
      "1308                0\n",
      "1309                0\n",
      "\n",
      "[418 rows x 1 columns]\n",
      "Done\n"
     ]
    }
   ],
   "source": [
    "import pandas as pd\n",
    "import re\n",
    "\n",
    "titanic_test = pd.read_csv('test.csv',index_col = 'PassengerId')\n",
    "# print('测试数据集：\\n',titanic_test)\n",
    "# print(titanic_test.describe())\n",
    "\n",
    "#发现Age和Fare 有缺失值，进行填补\n",
    "titanic_test['Age'] = titanic_test['Age'].fillna(titanic_test['Age'].median())\n",
    "titanic_test['Fare'] = titanic_test['Fare'].fillna(titanic_test['Fare'].median())\n",
    "# print(titanic_test.describe())\n",
    "\n",
    "#对字符型特征数值化\n",
    "# print(titanic['Sex'].unique())\n",
    "titanic_test.loc[titanic_test['Sex']=='male','Sex'] = 0\n",
    "titanic_test.loc[titanic_test['Sex']== 'female' ,'Sex'] = 1\n",
    "\n",
    "#对字符型特征数值化\n",
    "# print(titanic_test['Embarked'].unique())\n",
    "titanic_test.loc[titanic_test['Embarked']=='S','Embarked'] = 0\n",
    "titanic_test.loc[titanic_test['Embarked']=='C','Embarked'] = 1\n",
    "titanic_test.loc[titanic_test['Embarked']=='Q','Embarked'] = 3\n",
    "# print(titanic_test.head())\n",
    "\n",
    "#对test数据集的其他特征进行处理，添加其他提取的特征\n",
    "\n",
    "#可能家庭成员的数量对是否获救有关，则对该特征进行提取\n",
    "titanic_test['FamilySize'] = titanic_test['SibSp']+titanic_test['Parch']\n",
    "#可能名字长度对是否获救也有某种潜在的关联\n",
    "titanic_test['NameLength']=titanic_test['Name'].apply(lambda x:len(x))\n",
    "\n",
    "#使用正则表达式来对名字进行提取\n",
    "def get_title(name):\n",
    "    #名字总是由大小写字母组成，并以点号（.）结束\n",
    "    #在name中寻找title\n",
    "    title_search = re.search('([A-Za-z]+)\\.',name)\n",
    "    #如果存在\n",
    "    if title_search:\n",
    "        # 数据集的名字如Todoroff, Mr. Lalio 我们要找出其中的Mr 则返回group(1)\n",
    "        return title_search.group(1)\n",
    "    return ''\n",
    "\n",
    "#获取所有title（如Mr，Miss等） 并对其进行统计个数\n",
    "titles = titanic_test['Name'].apply(get_title)\n",
    "# print(titles)\n",
    "# print(pd.value_counts(titles))\n",
    "\n",
    "#将字符标签（Mr，Mrs,Miss等）数值化\n",
    "\n",
    "titles_mapping = { \n",
    "    \"Mr\": 1,\n",
    "    \"Miss\": 2,\n",
    "    \"Mrs\": 3,\n",
    "    \"Master\": 4,\n",
    "    \"Dr\": 5,\n",
    "    \"Rev\": 6,\n",
    "    \"Major\": 7,\n",
    "    \"Col\": 7,\n",
    "    \"Mlle\": 8,\n",
    "    \"Mme\": 8,\n",
    "    \"Dona\": 9,\n",
    "    \"Lady\": 10,\n",
    "    \"Countess\": 10,\n",
    "    \"Jonkheer\": 10,\n",
    "    \"Sir\": 9,\n",
    "    \"Capt\": 7,\n",
    "    \"Ms\": 2\n",
    "}\n",
    "\n",
    "for k,v in titles_mapping.items():\n",
    "    titles[k==titles]=v\n",
    "# print(pd.value_counts(titles))\n",
    "titanic_test['titles']=titles\n",
    "print(titanic_test.head())\n",
    "\n",
    "#使用集成算法预测\n",
    "from sklearn.ensemble import GradientBoostingClassifier\n",
    "from sklearn.linear_model import LogisticRegression\n",
    "import numpy as np\n",
    "\n",
    "#组合我们要集成的算法，将多种算法集成为一个模型\n",
    "features = ['Pclass','Age','Sex','Fare','Embarked','FamilySize','titles']\n",
    "model = [\n",
    "    [GradientBoostingClassifier(random_state=1,n_estimators=1000,min_samples_split=4,min_samples_leaf=2,max_depth=4),features],\n",
    "    [LogisticRegression(random_state = 1,solver = 'liblinear'),features],\n",
    "]\n",
    "\n",
    "full_predictions = []\n",
    "for model_i,features in model:\n",
    "    # 用整个训练集对模型进行训练.\n",
    "    model_i.fit(titanic[features],titanic['Survived'])\n",
    "    # 使用测试数据集进行预测。我们必须将所有列都转换为浮点数以避免错误.\n",
    "    predictions = model_i.predict_proba(titanic_test[features].astype(float))[:, 1]\n",
    "    predictions[predictions <= .5] = 0\n",
    "    predictions[predictions > .5] = 1\n",
    "    full_predictions.append(predictions)\n",
    "print(predictions)\n",
    "\n",
    "#将预测结果保存为CSV文件\n",
    "test = pd.DataFrame(predictions,index = titanic_test.index,dtype = 'int',columns=['Survived'])\n",
    "print(test)\n",
    "test.to_csv('predictions_Survived.csv')\n",
    "print('Done')\n",
    "\n",
    "\n"
   ]
  },
  {
   "cell_type": "code",
   "execution_count": null,
   "metadata": {},
   "outputs": [],
   "source": []
  }
 ],
 "metadata": {
  "kernelspec": {
   "display_name": "Python 3",
   "language": "python",
   "name": "python3"
  },
  "language_info": {
   "codemirror_mode": {
    "name": "ipython",
    "version": 3
   },
   "file_extension": ".py",
   "mimetype": "text/x-python",
   "name": "python",
   "nbconvert_exporter": "python",
   "pygments_lexer": "ipython3",
   "version": "3.6.6"
  }
 },
 "nbformat": 4,
 "nbformat_minor": 2
}
